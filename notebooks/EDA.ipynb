{
 "cells": [
  {
   "cell_type": "markdown",
   "id": "17551770-915e-4f39-8e5b-74ffbad23802",
   "metadata": {},
   "source": [
    "\n",
    "# EDA — Kaggle *TPU Getting Started*\n",
    "\n",
    "This notebook explores the dataset (class distribution, image sizes, sample images) and tries to be robust to different dataset layouts:\n",
    "- Images organized in subfolders per class (e.g., `data/train/<class>/*.jpg`)\n",
    "- CSV labels (e.g., `data/labels.csv` or `data/train.csv`)\n",
    "- TFRecord shards (e.g., `data/train/*.tfrec`)\n",
    "\n",
    "> Set `DATA_DIR` below to the folder where you extracted the competition data (default: `data/`).\n"
   ]
  },
  {
   "cell_type": "code",
   "execution_count": null,
   "id": "6defe70c-288b-460b-912b-2852dec077a2",
   "metadata": {},
   "outputs": [],
   "source": []
  }
 ],
 "metadata": {
  "kernelspec": {
   "display_name": "Python 3 (ipykernel)",
   "language": "python",
   "name": "python3"
  },
  "language_info": {
   "codemirror_mode": {
    "name": "ipython",
    "version": 3
   },
   "file_extension": ".py",
   "mimetype": "text/x-python",
   "name": "python",
   "nbconvert_exporter": "python",
   "pygments_lexer": "ipython3",
   "version": "3.12.11"
  }
 },
 "nbformat": 4,
 "nbformat_minor": 5
}
